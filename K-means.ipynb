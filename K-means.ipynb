{
 "cells": [
  {
   "cell_type": "code",
   "execution_count": 9,
   "metadata": {},
   "outputs": [],
   "source": [
    "\"\"\"import the required libraries\"\"\"\n",
    "import numpy as np \n",
    "import pandas as pd\n",
    "from sklearn.utils import shuffle\n",
    "import matplotlib.pyplot as plt\n",
    "import math"
   ]
  },
  {
   "cell_type": "code",
   "execution_count": 10,
   "metadata": {},
   "outputs": [],
   "source": [
    "\"\"\"read the data and preprocess it\"\"\"\n",
    "input_data = open(\"/Users/kavinarasu/Desktop/GMM_dataset.txt\", \"r\")\n",
    "ipdata = input_data.read().splitlines()\n",
    "new_data = [x.split(\"  \") for x in ipdata] \n",
    "new_data = np.asarray(new_data)\n",
    "new_data = np.delete(new_data,0,1)\n",
    "new_data = new_data.astype(float)\n",
    "data=new_data"
   ]
  },
  {
   "cell_type": "code",
   "execution_count": 11,
   "metadata": {},
   "outputs": [
    {
     "data": {
      "image/png": "[encoded data removed]",
      "text/plain": [
       "<Figure size 720x432 with 1 Axes>"
      ]
     },
     "metadata": {},
     "output_type": "display_data"
    }
   ],
   "source": [
    "\"\"\"plotting the data\"\"\"\n",
    "a = data[:,0]\n",
    "b = data[:,1]\n",
    "plt.plot(a,b,'ro')\n",
    "plt.title('Plotted data')\n",
    "plt.rcParams['figure.figsize']=[10,6]"
   ]
  },
  {
   "cell_type": "code",
   "execution_count": 12,
   "metadata": {},
   "outputs": [],
   "source": [
    "def k_means (data,no_of_clusters):\n",
    "    mse_list=[]\n",
    "    min_mse_centroid=[]\n",
    "    min_mse_assign_centroid=[]\n",
    "    mse_min=10000\n",
    "    for i in range(10):\n",
    "        cent_euc=1\n",
    "        idx = np.random.randint(1500, size=no_of_clusters)\n",
    "        centroid=data[idx,:]\n",
    "        c_old=centroid\n",
    "        iteration=1\n",
    "        print(\"iteration number:\",i)\n",
    "        while(cent_euc>0):\n",
    "            \"\"\"ASSIGNMENT STEP\"\"\"     \n",
    "            iteration=iteration+1\n",
    "            assign_centroid=np.zeros((1500,3))\n",
    "            for i in range(data.shape[0]):\n",
    "                euclidean_dist=[]\n",
    "                for j in range(centroid.shape[0]):\n",
    "                    dist = euc_dist(data[i,:], centroid[j,:])\n",
    "                    euclidean_dist = np.append(euclidean_dist, dist)\n",
    "                assign_centroid[i][np.argmin(euclidean_dist)] =1        \n",
    "\n",
    "            \"\"\"UPDATE STEP\"\"\"\n",
    "            centroid1_data,centroid2_data,centroid3_data=split_data(assign_centroid,data)\n",
    "            c_new=np.zeros((3,2))\n",
    "            c_new[0,:]=centroid1_data.mean(axis=0)\n",
    "            c_new[1,:]=centroid2_data.mean(axis=0)\n",
    "            c_new[2,:]=centroid3_data.mean(axis=0)\n",
    "            if(np.array_equal(centroid,c_new)):\n",
    "                cent_euc=0\n",
    "                mse_list = np.append(mse_list,find_mse(data,c_new))\n",
    "                temp_mse_min=np.min(mse_list)\n",
    "                plotgraph(centroid1_data,centroid2_data,centroid3_data,centroid)\n",
    "                if(temp_mse_min<mse_min):\n",
    "                    mse_min=temp_mse_min\n",
    "                    min_mse_centroid=c_new\n",
    "                    min_mse_assign_centroid=assign_centroid\n",
    "            centroid=c_new\n",
    "    centroid1_data,centroid2_data,centroid3_data=split_data(min_mse_assign_centroid,data)\n",
    "    print(\"best cluster from all the iterations\")\n",
    "    plotgraph(centroid1_data,centroid2_data,centroid3_data,min_mse_centroid)          "
   ]
  },
  {
   "cell_type": "code",
   "execution_count": null,
   "metadata": {},
   "outputs": [
    {
     "name": "stdout",
     "output_type": "stream",
     "text": [
      "iteration number: 0\n",
      "iteration number: 1\n",
      "iteration number: 2\n",
      "iteration number: 3\n",
      "iteration number: 4\n",
      "iteration number: 5\n"
     ]
    },
    {
     "ename": "KeyboardInterrupt",
     "evalue": "",
     "output_type": "error",
     "traceback": [
      "\u001b[0;31m---------------------------------------------------------------------------\u001b[0m",
      "\u001b[0;31mKeyboardInterrupt\u001b[0m                         Traceback (most recent call last)",
      "\u001b[0;32m<ipython-input-13-128316f7f635>\u001b[0m in \u001b[0;36m<module>\u001b[0;34m()\u001b[0m\n\u001b[1;32m      1\u001b[0m \u001b[0mno_of_clusters\u001b[0m \u001b[0;34m=\u001b[0m \u001b[0;36m3\u001b[0m\u001b[0;34m\u001b[0m\u001b[0m\n\u001b[0;32m----> 2\u001b[0;31m \u001b[0mk_means\u001b[0m\u001b[0;34m(\u001b[0m\u001b[0mdata\u001b[0m\u001b[0;34m,\u001b[0m\u001b[0mno_of_clusters\u001b[0m\u001b[0;34m)\u001b[0m\u001b[0;34m\u001b[0m\u001b[0m\n\u001b[0m\u001b[1;32m      3\u001b[0m \u001b[0;32mdef\u001b[0m \u001b[0meuc_dist\u001b[0m\u001b[0;34m(\u001b[0m\u001b[0ma\u001b[0m\u001b[0;34m,\u001b[0m\u001b[0mb\u001b[0m\u001b[0;34m)\u001b[0m\u001b[0;34m:\u001b[0m\u001b[0;34m\u001b[0m\u001b[0m\n\u001b[1;32m      4\u001b[0m     \u001b[0mdist\u001b[0m \u001b[0;34m=\u001b[0m \u001b[0mmath\u001b[0m\u001b[0;34m.\u001b[0m\u001b[0msqrt\u001b[0m\u001b[0;34m(\u001b[0m\u001b[0;34m(\u001b[0m\u001b[0ma\u001b[0m\u001b[0;34m[\u001b[0m\u001b[0;36m0\u001b[0m\u001b[0;34m]\u001b[0m \u001b[0;34m-\u001b[0m \u001b[0mb\u001b[0m\u001b[0;34m[\u001b[0m\u001b[0;36m0\u001b[0m\u001b[0;34m]\u001b[0m\u001b[0;34m)\u001b[0m\u001b[0;34m**\u001b[0m\u001b[0;36m2\u001b[0m \u001b[0;34m+\u001b[0m \u001b[0;34m(\u001b[0m\u001b[0ma\u001b[0m\u001b[0;34m[\u001b[0m\u001b[0;36m1\u001b[0m\u001b[0;34m]\u001b[0m \u001b[0;34m-\u001b[0m \u001b[0mb\u001b[0m\u001b[0;34m[\u001b[0m\u001b[0;36m1\u001b[0m\u001b[0;34m]\u001b[0m\u001b[0;34m)\u001b[0m\u001b[0;34m**\u001b[0m\u001b[0;36m2\u001b[0m\u001b[0;34m)\u001b[0m\u001b[0;34m\u001b[0m\u001b[0m\n\u001b[1;32m      5\u001b[0m     \u001b[0;32mreturn\u001b[0m \u001b[0mdist\u001b[0m\u001b[0;34m\u001b[0m\u001b[0m\n",
      "\u001b[0;32m<ipython-input-12-b2050ac73693>\u001b[0m in \u001b[0;36mk_means\u001b[0;34m(data, no_of_clusters)\u001b[0m\n\u001b[1;32m     19\u001b[0m                 \u001b[0;32mfor\u001b[0m \u001b[0mj\u001b[0m \u001b[0;32min\u001b[0m \u001b[0mrange\u001b[0m\u001b[0;34m(\u001b[0m\u001b[0mcentroid\u001b[0m\u001b[0;34m.\u001b[0m\u001b[0mshape\u001b[0m\u001b[0;34m[\u001b[0m\u001b[0;36m0\u001b[0m\u001b[0;34m]\u001b[0m\u001b[0;34m)\u001b[0m\u001b[0;34m:\u001b[0m\u001b[0;34m\u001b[0m\u001b[0m\n\u001b[1;32m     20\u001b[0m                     \u001b[0mdist\u001b[0m \u001b[0;34m=\u001b[0m \u001b[0meuc_dist\u001b[0m\u001b[0;34m(\u001b[0m\u001b[0mdata\u001b[0m\u001b[0;34m[\u001b[0m\u001b[0mi\u001b[0m\u001b[0;34m,\u001b[0m\u001b[0;34m:\u001b[0m\u001b[0;34m]\u001b[0m\u001b[0;34m,\u001b[0m \u001b[0mcentroid\u001b[0m\u001b[0;34m[\u001b[0m\u001b[0mj\u001b[0m\u001b[0;34m,\u001b[0m\u001b[0;34m:\u001b[0m\u001b[0;34m]\u001b[0m\u001b[0;34m)\u001b[0m\u001b[0;34m\u001b[0m\u001b[0m\n\u001b[0;32m---> 21\u001b[0;31m                     \u001b[0meuclidean_dist\u001b[0m \u001b[0;34m=\u001b[0m \u001b[0mnp\u001b[0m\u001b[0;34m.\u001b[0m\u001b[0mappend\u001b[0m\u001b[0;34m(\u001b[0m\u001b[0meuclidean_dist\u001b[0m\u001b[0;34m,\u001b[0m \u001b[0mdist\u001b[0m\u001b[0;34m)\u001b[0m\u001b[0;34m\u001b[0m\u001b[0m\n\u001b[0m\u001b[1;32m     22\u001b[0m                 \u001b[0massign_centroid\u001b[0m\u001b[0;34m[\u001b[0m\u001b[0mi\u001b[0m\u001b[0;34m]\u001b[0m\u001b[0;34m[\u001b[0m\u001b[0mnp\u001b[0m\u001b[0;34m.\u001b[0m\u001b[0margmin\u001b[0m\u001b[0;34m(\u001b[0m\u001b[0meuclidean_dist\u001b[0m\u001b[0;34m)\u001b[0m\u001b[0;34m]\u001b[0m \u001b[0;34m=\u001b[0m\u001b[0;36m1\u001b[0m\u001b[0;34m\u001b[0m\u001b[0m\n\u001b[1;32m     23\u001b[0m \u001b[0;34m\u001b[0m\u001b[0m\n",
      "\u001b[0;32m/Library/Frameworks/Python.framework/Versions/3.6/lib/python3.6/site-packages/numpy/lib/function_base.py\u001b[0m in \u001b[0;36mappend\u001b[0;34m(arr, values, axis)\u001b[0m\n\u001b[1;32m   5160\u001b[0m     \u001b[0marr\u001b[0m \u001b[0;34m=\u001b[0m \u001b[0masanyarray\u001b[0m\u001b[0;34m(\u001b[0m\u001b[0marr\u001b[0m\u001b[0;34m)\u001b[0m\u001b[0;34m\u001b[0m\u001b[0m\n\u001b[1;32m   5161\u001b[0m     \u001b[0;32mif\u001b[0m \u001b[0maxis\u001b[0m \u001b[0;32mis\u001b[0m \u001b[0;32mNone\u001b[0m\u001b[0;34m:\u001b[0m\u001b[0;34m\u001b[0m\u001b[0m\n\u001b[0;32m-> 5162\u001b[0;31m         \u001b[0;32mif\u001b[0m \u001b[0marr\u001b[0m\u001b[0;34m.\u001b[0m\u001b[0mndim\u001b[0m \u001b[0;34m!=\u001b[0m \u001b[0;36m1\u001b[0m\u001b[0;34m:\u001b[0m\u001b[0;34m\u001b[0m\u001b[0m\n\u001b[0m\u001b[1;32m   5163\u001b[0m             \u001b[0marr\u001b[0m \u001b[0;34m=\u001b[0m \u001b[0marr\u001b[0m\u001b[0;34m.\u001b[0m\u001b[0mravel\u001b[0m\u001b[0;34m(\u001b[0m\u001b[0;34m)\u001b[0m\u001b[0;34m\u001b[0m\u001b[0m\n\u001b[1;32m   5164\u001b[0m         \u001b[0mvalues\u001b[0m \u001b[0;34m=\u001b[0m \u001b[0mravel\u001b[0m\u001b[0;34m(\u001b[0m\u001b[0mvalues\u001b[0m\u001b[0;34m)\u001b[0m\u001b[0;34m\u001b[0m\u001b[0m\n",
      "\u001b[0;31mKeyboardInterrupt\u001b[0m: "
     ]
    }
   ],
   "source": [
    "no_of_clusters = 3\n",
    "k_means(data,no_of_clusters)\n",
    "def euc_dist(a,b):\n",
    "    dist = math.sqrt((a[0] - b[0])**2 + (a[1] - b[1])**2)\n",
    "    return dist\n",
    "def split_data(assign_centroid,data):\n",
    "    centroid1=0\n",
    "    centroid2=0\n",
    "    centroid3=0\n",
    "    centroid1_data=[]\n",
    "    centroid2_data=[]\n",
    "    centroid3_data=[]\n",
    "    centroid1_data_sum=np.zeros((1,2))\n",
    "    centroid2_data_sum=np.zeros((1,2))\n",
    "    centroid3_data_sum=np.zeros((1,2))\n",
    "    for i in range(assign_centroid.shape[0]):\n",
    "        if assign_centroid[i][0] == 1:\n",
    "            centroid1 = centroid1 +1\n",
    "            centroid1_data = np.append(centroid1_data,data[i,:])\n",
    "        elif assign_centroid[i][1] ==1:\n",
    "            centroid2 = centroid2 +1\n",
    "            centroid2_data = np.append(centroid2_data,data[i,:])\n",
    "        else:\n",
    "            centroid3 = centroid3 +1\n",
    "            centroid3_data = np.append(centroid3_data,data[i,:])\n",
    "\n",
    "    centroid1_data=centroid1_data.reshape(centroid1,2)\n",
    "    centroid2_data=centroid2_data.reshape(centroid2,2)\n",
    "    centroid3_data=centroid3_data.reshape(centroid3,2)\n",
    "    return centroid1_data,centroid2_data,centroid3_data\n",
    "    \n",
    "\n",
    "def find_mse(data,centroid):\n",
    "    mse=0\n",
    "    for i in range(data.shape[0]):\n",
    "        euclidean_dist=[]\n",
    "        for j in range(centroid.shape[0]):\n",
    "            dist = euc_dist(data[i,:], centroid[j,:])\n",
    "            euclidean_dist = np.append(euclidean_dist, dist)\n",
    "        mse = mse + np.min(euclidean_dist)\n",
    "    return mse\n",
    "        \n",
    "def plotgraph(centroid1_data,centroid2_data,centroid3_data,centroid):\n",
    "    a = centroid1_data[:,0]\n",
    "    b = centroid1_data[:,1]\n",
    "    plt.plot(a,b,'ro')\n",
    "    s=plt.plot(centroid[0,0], centroid[0,1], 'kD')\n",
    "    plt.setp(s,'markersize',20)\n",
    "    plt.title('Plotted data')\n",
    "    plt.rcParams['figure.figsize']=[10,6]\n",
    "    a = centroid2_data[:,0]\n",
    "    b = centroid2_data[:,1]\n",
    "    plt.plot(a,b,'bo')\n",
    "    m = plt.plot(centroid[1,0], centroid[1,1], 'kD')\n",
    "    plt.setp(m,'markersize',20)\n",
    "    plt.title('Plotted data')\n",
    "    plt.rcParams['figure.figsize']=[10,6]\n",
    "    a = centroid3_data[:,0]\n",
    "    b = centroid3_data[:,1]\n",
    "    plt.plot(a,b,'yo')\n",
    "    l=plt.plot(centroid[2,0], centroid[2,1], 'kD')\n",
    "    plt.setp(l,'markersize',20)\n",
    "    plt.title('Plotted data')\n",
    "    plt.rcParams['figure.figsize']=[10,6]\n",
    "#     plt.show()\n"
   ]
  },
  {
   "cell_type": "code",
   "execution_count": null,
   "metadata": {},
   "outputs": [],
   "source": []
  }
 ],
 "metadata": {
  "kernelspec": {
   "display_name": "Python 3",
   "language": "python",
   "name": "python3"
  },
  "language_info": {
   "codemirror_mode": {
    "name": "ipython",
    "version": 3
   },
   "file_extension": ".py",
   "mimetype": "text/x-python",
   "name": "python",
   "nbconvert_exporter": "python",
   "pygments_lexer": "ipython3",
   "version": "3.6.5"
  }
 },
 "nbformat": 4,
 "nbformat_minor": 2
}
